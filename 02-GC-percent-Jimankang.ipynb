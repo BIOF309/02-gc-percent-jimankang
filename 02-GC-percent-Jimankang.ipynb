{
 "cells": [
  {
   "cell_type": "code",
   "execution_count": 2,
   "metadata": {
    "collapsed": true
   },
   "outputs": [],
   "source": [
    "flu_ns1_seq = \"GTGACAAAGACATAATGGATCCAAACACTGTGTCAAGCTTTCAGGTAGATTGCTTTCTTTGGCATGTCCGCAAACGAGTTGCAGACCAAGAACTAGGTGA\""
   ]
  },
  {
   "cell_type": "code",
   "execution_count": 3,
   "metadata": {},
   "outputs": [
    {
     "name": "stdout",
     "output_type": "stream",
     "text": [
      "GTGACAAAGACATAATGGATCCAAACACTGTGTCAAGCTTTCAGGTAGATTGCTTTCTTTGGCATGTCCGCAAACGAGTTGCAGACCAAGAACTAGGTGA\n"
     ]
    }
   ],
   "source": [
    "print (flu_ns1_seq)"
   ]
  },
  {
   "cell_type": "code",
   "execution_count": 14,
   "metadata": {},
   "outputs": [
    {
     "name": "stdout",
     "output_type": "stream",
     "text": [
      "['G', 'T', 'G', 'A', 'C', 'A', 'A', 'A', 'G', 'A', 'C', 'A', 'T', 'A', 'A', 'T', 'G', 'G', 'A', 'T', 'C', 'C', 'A', 'A', 'A', 'C', 'A', 'C', 'T', 'G', 'T', 'G', 'T', 'C', 'A', 'A', 'G', 'C', 'T', 'T', 'T', 'C', 'A', 'G', 'G', 'T', 'A', 'G', 'A', 'T', 'T', 'G', 'C', 'T', 'T', 'T', 'C', 'T', 'T', 'T', 'G', 'G', 'C', 'A', 'T', 'G', 'T', 'C', 'C', 'G', 'C', 'A', 'A', 'A', 'C', 'G', 'A', 'G', 'T', 'T', 'G', 'C', 'A', 'G', 'A', 'C', 'C', 'A', 'A', 'G', 'A', 'A', 'C', 'T', 'A', 'G', 'G', 'T', 'G', 'A']\n"
     ]
    }
   ],
   "source": [
    "flu_ns1_seq = \"GTGACAAAGACATAATGGATCCAAACACTGTGTCAAGCTTTCAGGTAGATTGCTTTCTTTGGCATGTCCGCAAACGAGTTGCAGACCAAGAACTAGGTGA\"\n",
    "flu_ns1_list = list(flu_ns1_seq)\n",
    "print(flu_ns1_list)"
   ]
  },
  {
   "cell_type": "code",
   "execution_count": 18,
   "metadata": {},
   "outputs": [
    {
     "data": {
      "text/plain": [
       "24"
      ]
     },
     "execution_count": 18,
     "metadata": {},
     "output_type": "execute_result"
    }
   ],
   "source": [
    "flu_ns1_list.count(\"G\")"
   ]
  },
  {
   "cell_type": "code",
   "execution_count": 19,
   "metadata": {},
   "outputs": [
    {
     "data": {
      "text/plain": [
       "20"
      ]
     },
     "execution_count": 19,
     "metadata": {},
     "output_type": "execute_result"
    }
   ],
   "source": [
    "flu_ns1_list.count(\"C\")"
   ]
  },
  {
   "cell_type": "code",
   "execution_count": 20,
   "metadata": {},
   "outputs": [
    {
     "data": {
      "text/plain": [
       "100"
      ]
     },
     "execution_count": 20,
     "metadata": {},
     "output_type": "execute_result"
    }
   ],
   "source": [
    "len(flu_ns1_list)"
   ]
  },
  {
   "cell_type": "code",
   "execution_count": 25,
   "metadata": {},
   "outputs": [
    {
     "name": "stdout",
     "output_type": "stream",
     "text": [
      "44\n"
     ]
    }
   ],
   "source": [
    "GC_count = flu_ns1_list.count(\"G\") + flu_ns1_list.count(\"C\")\n",
    "print(GC_count)"
   ]
  },
  {
   "cell_type": "code",
   "execution_count": 32,
   "metadata": {},
   "outputs": [
    {
     "name": "stdout",
     "output_type": "stream",
     "text": [
      "44.0\n"
     ]
    }
   ],
   "source": [
    "GC_percent = 100*(float(GC_count)/len(flu_ns1_list))\n",
    "print(GC_percent)\n"
   ]
  },
  {
   "cell_type": "code",
   "execution_count": null,
   "metadata": {
    "collapsed": true
   },
   "outputs": [],
   "source": []
  }
 ],
 "metadata": {
  "kernelspec": {
   "display_name": "Python 3",
   "language": "python",
   "name": "python3"
  },
  "language_info": {
   "codemirror_mode": {
    "name": "ipython",
    "version": 3
   },
   "file_extension": ".py",
   "mimetype": "text/x-python",
   "name": "python",
   "nbconvert_exporter": "python",
   "pygments_lexer": "ipython3",
   "version": "3.6.1"
  }
 },
 "nbformat": 4,
 "nbformat_minor": 2
}
